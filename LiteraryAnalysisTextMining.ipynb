{
 "cells": [
  {
   "cell_type": "markdown",
   "id": "0e283e81",
   "metadata": {},
   "source": [
    "# Literary Analysis: Comparing Nonfiction and Fiction through Topic Modeling and Sentiment Analysis "
   ]
  },
  {
   "cell_type": "markdown",
   "id": "3e25c770",
   "metadata": {},
   "source": [
    "### ADS 509 Final Project\n",
    "##### Team 3: Claire Bentzen, Tara Dehdari, Logan Van Dine"
   ]
  },
  {
   "cell_type": "markdown",
   "id": "4272e44e",
   "metadata": {},
   "source": [
    "##### Introduction\n",
    "\n",
    "In this project, we will conduct a comparative analysis of two significant literary works: \"Pride and Prejudice\" by Jane Austen (fiction) and \"A Vindication of the Rights of Woman\" by Mary Wollstonecraft (nonfiction). Both texts engage deeply with themes of gender, society, and individual rights, making them ideal for exploring the differences in language, themes, and sentiment between fiction and nonfiction.\n",
    "\n",
    "Using text mining techniques, we will analyze how each genre approaches these themes, examining the stylistic and rhetorical differences that characterize fiction versus nonfiction. Our analysis will involve data cleaning, tokenization, and the application of descriptive statistics, sentiment analysis, and topic modeling. By comparing these works, we aim to uncover the unique ways in which each genre communicates similar ideas, providing insights into the broader distinctions between fiction and nonfiction writing.\n"
   ]
  },
  {
   "cell_type": "markdown",
   "id": "466f8631",
   "metadata": {},
   "source": [
    "### Imports"
   ]
  },
  {
   "cell_type": "code",
   "execution_count": 12,
   "id": "e783ff14",
   "metadata": {},
   "outputs": [],
   "source": [
    "import requests\n",
    "import os\n",
    "import re\n",
    "import pandas as pd\n",
    "import nltk\n",
    "\n",
    "from bs4 import BeautifulSoup  \n",
    "from nltk.corpus import stopwords\n",
    "from string import punctuation\n",
    "from collections import Counter"
   ]
  },
  {
   "cell_type": "markdown",
   "id": "e266c945",
   "metadata": {},
   "source": [
    "### Scraping"
   ]
  },
  {
   "cell_type": "markdown",
   "id": "5baa4d2a",
   "metadata": {},
   "source": [
    "This portion scrapes and saves the full text of Pride and Prejudice and A Vindication of the Rights of Woman from Project Gutenberg. It ensures the save directory exists, extracts text from the HTML, saves it to .txt files, and verifies that the files were created successfully, showing a preview of the content."
   ]
  },
  {
   "cell_type": "code",
   "execution_count": 2,
   "id": "2eb50984",
   "metadata": {},
   "outputs": [
    {
     "name": "stdout",
     "output_type": "stream",
     "text": [
      "Text from 'pride_and_prejudice.txt' scraped and saved.\n",
      "File './data\\pride_and_prejudice.txt' has been created successfully.\n",
      "File content preview:\n",
      "\n",
      "Title: Pride and Prejudice\n",
      "Author: Jane Austen\n",
      "Release date: June 1, 1998 [eBook #1342]\n",
      "\n",
      "                Most recently updated: June 17, 2024\n",
      "Language: English\n",
      "Credits: Chuck Greif and the Online Distributed Proofreading Team at http://www.pgdp.net (This file was produced from images available at The Internet Archive)\n",
      "\n",
      "PREFACE.\n",
      "List of Illustrations.\n",
      "Chapter: I., \n",
      "II., \n",
      "III., \n",
      "IV., \n",
      "V., \n",
      "VI., \n",
      "VII., \n",
      "VIII., \n",
      "IX., \n",
      "X., \n",
      "XI., \n",
      "XII., \n",
      "XIII., \n",
      "XIV., \n",
      "XV., \n",
      "XVI., \n",
      "XVII., \n",
      "XVIII., \n",
      "XIX., \n",
      "XX., \n",
      "XXI., \n",
      "Text from 'vindication_of_rights_of_woman.txt' scraped and saved.\n",
      "File './data\\vindication_of_rights_of_woman.txt' has been created successfully.\n",
      "File content preview:\n",
      "\n",
      "Title: A Vindication of the Rights of Woman\n",
      "Author: Mary Wollstonecraft\n",
      "Release date: September 1, 2002 [eBook #3420]\n",
      "\n",
      "                Most recently updated: January 8, 2021\n",
      "Language: English\n",
      "Credits: This etext was produced by Amy E Zelmer, Col Choat, Sue Asscher\n",
      "This etext was produced by\n",
      "Amy E Zelmer  <a.zelmer@cqu.edu.au>\n",
      "\n",
      "\n",
      "\n",
      "Col Choat  <CChoat@sanderson.net.au>\n",
      "\n",
      "\n",
      "\n",
      "Sue Asscher  <asschers@dingoblue.net.au>\n",
      "\n",
      "M. Wollstonecraft was born in 1759.  Her father was so great a\n",
      "\n",
      "wanderer, that the plac\n"
     ]
    }
   ],
   "source": [
    "# Define the URLs for the books\n",
    "url_pride_prej = 'https://www.gutenberg.org/cache/epub/1342/pg1342-images.html'\n",
    "url_vin_of_women = 'https://www.gutenberg.org/cache/epub/3420/pg3420-images.html'\n",
    "\n",
    "# Define the directory to save the files\n",
    "data_dir = './data'\n",
    "\n",
    "# Ensure the directory exists\n",
    "os.makedirs(data_dir, exist_ok=True)\n",
    "\n",
    "# Function to scrape and save books\n",
    "def scrape_and_save_book(url, file_name):\n",
    "    # Send a GET request to the URL\n",
    "    response = requests.get(url)\n",
    "    response.raise_for_status()  # Check that the request was successful\n",
    "    \n",
    "    # Parse the HTML content with BeautifulSoup\n",
    "    soup = BeautifulSoup(response.content, 'html.parser')\n",
    "    \n",
    "    # Extract all text from <p> tags\n",
    "    paragraphs = soup.find_all('p')\n",
    "    book_text = '\\n'.join([para.get_text() for para in paragraphs])\n",
    "    \n",
    "    # Save the extracted text to a file\n",
    "    file_path = os.path.join(data_dir, file_name)\n",
    "    with open(file_path, 'w', encoding='utf-8') as file:\n",
    "        file.write(book_text)\n",
    "    \n",
    "    print(f\"Text from '{file_name}' scraped and saved.\")\n",
    "    \n",
    "    # Check if the file is saved and contains content\n",
    "    if os.path.exists(file_path):\n",
    "        print(f\"File '{file_path}' has been created successfully.\")\n",
    "        # Check the first few lines of the file\n",
    "        with open(file_path, 'r', encoding='utf-8') as file:\n",
    "            preview = file.read(500)  # Read the first 500 characters\n",
    "            print(\"File content preview:\\n\")\n",
    "            print(preview)\n",
    "    else:\n",
    "        print(f\"Failed to create the file '{file_path}'.\")\n",
    "\n",
    "# Scrape and save Pride and Prejudice\n",
    "scrape_and_save_book(url_pride_prej, 'pride_and_prejudice.txt')\n",
    "\n",
    "# Scrape and save A Vindication of the Rights of Woman\n",
    "scrape_and_save_book(url_vin_of_women, 'vindication_of_rights_of_woman.txt')"
   ]
  },
  {
   "cell_type": "markdown",
   "id": "035ccb09",
   "metadata": {},
   "source": [
    "### Data Cleaning and Tokenization"
   ]
  },
  {
   "cell_type": "markdown",
   "id": "c7e67f5f",
   "metadata": {},
   "source": [
    "This section converts the raw text into a dataframe format that includes information about the books."
   ]
  },
  {
   "cell_type": "code",
   "execution_count": 3,
   "id": "d831fa2d",
   "metadata": {},
   "outputs": [],
   "source": [
    "# Initialize empty dataframe\n",
    "books = pd.DataFrame(columns=['Title', 'Author', 'Release_Date', 'Updated_Date', 'Language', 'Credits', 'Text'])\n",
    "\n",
    "# Function to convert text to dataframes\n",
    "def convert_to_df(file_name):\n",
    "    # Establish file path\n",
    "    file_path = os.path.join(data_dir, file_name)\n",
    "    \n",
    "    # Open contents of file\n",
    "    if os.path.exists(file_path):\n",
    "        with open(file_path, 'r', encoding='utf-8') as file:\n",
    "            # Read contents of file\n",
    "            content = file.read()  \n",
    "            \n",
    "            # Extract relevant sections\n",
    "            title = re.search(r'Title:\\s*(.*)', content).group(1)\n",
    "            author = re.search(r'Author:\\s*(.*)', content).group(1)\n",
    "            release_date = re.search(r'Release date:\\s*(.*)\\[eBook', content).group(1).strip()\n",
    "            updated_date = re.search(r'Most recently updated:\\s*(.*)', content).group(1)\n",
    "            language = re.search(r'Language:\\s*(.*)', content).group(1)\n",
    "            credits = re.search(r'Credits:\\s*(.*)', content).group(1)\n",
    "            \n",
    "            # Book text\n",
    "            match = re.search(r'Credits:.*?\\n(.*)', content, re.DOTALL)\n",
    "            book_text = match.group(1).strip()\n",
    "            \n",
    "            # Dictionary for data\n",
    "            book_info = {\n",
    "                'Title': title,\n",
    "                'Author': author,\n",
    "                'Release_Date': release_date,\n",
    "                'Updated_Date': updated_date,\n",
    "                'Language': language,\n",
    "                'Credits': credits,\n",
    "                'Text': book_text\n",
    "            }\n",
    "            \n",
    "            # Add data to books dataframe\n",
    "            books.loc[len(books)] = book_info\n",
    "            \n",
    "            return books\n",
    "\n",
    "    else:\n",
    "        print(f\"The file '{file_name}' does not exist.\")"
   ]
  },
  {
   "cell_type": "markdown",
   "id": "99376f3f",
   "metadata": {},
   "source": [
    "##### Call on Dataframe Function with both texts"
   ]
  },
  {
   "cell_type": "code",
   "execution_count": 4,
   "id": "debdf1cf",
   "metadata": {},
   "outputs": [
    {
     "data": {
      "text/html": [
       "<div>\n",
       "<style scoped>\n",
       "    .dataframe tbody tr th:only-of-type {\n",
       "        vertical-align: middle;\n",
       "    }\n",
       "\n",
       "    .dataframe tbody tr th {\n",
       "        vertical-align: top;\n",
       "    }\n",
       "\n",
       "    .dataframe thead th {\n",
       "        text-align: right;\n",
       "    }\n",
       "</style>\n",
       "<table border=\"1\" class=\"dataframe\">\n",
       "  <thead>\n",
       "    <tr style=\"text-align: right;\">\n",
       "      <th></th>\n",
       "      <th>Title</th>\n",
       "      <th>Author</th>\n",
       "      <th>Release_Date</th>\n",
       "      <th>Updated_Date</th>\n",
       "      <th>Language</th>\n",
       "      <th>Credits</th>\n",
       "      <th>Text</th>\n",
       "    </tr>\n",
       "  </thead>\n",
       "  <tbody>\n",
       "    <tr>\n",
       "      <th>0</th>\n",
       "      <td>Pride and Prejudice</td>\n",
       "      <td>Jane Austen</td>\n",
       "      <td>June 1, 1998</td>\n",
       "      <td>June 17, 2024</td>\n",
       "      <td>English</td>\n",
       "      <td>Chuck Greif and the Online Distributed Proofre...</td>\n",
       "      <td>PREFACE.\\nList of Illustrations.\\nChapter: I.,...</td>\n",
       "    </tr>\n",
       "  </tbody>\n",
       "</table>\n",
       "</div>"
      ],
      "text/plain": [
       "                 Title       Author  Release_Date   Updated_Date Language  \\\n",
       "0  Pride and Prejudice  Jane Austen  June 1, 1998  June 17, 2024  English   \n",
       "\n",
       "                                             Credits  \\\n",
       "0  Chuck Greif and the Online Distributed Proofre...   \n",
       "\n",
       "                                                Text  \n",
       "0  PREFACE.\\nList of Illustrations.\\nChapter: I.,...  "
      ]
     },
     "execution_count": 4,
     "metadata": {},
     "output_type": "execute_result"
    }
   ],
   "source": [
    "# Convert Pride and Prejudice text\n",
    "convert_to_df('pride_and_prejudice.txt')"
   ]
  },
  {
   "cell_type": "code",
   "execution_count": 5,
   "id": "860a1b35",
   "metadata": {},
   "outputs": [
    {
     "data": {
      "text/html": [
       "<div>\n",
       "<style scoped>\n",
       "    .dataframe tbody tr th:only-of-type {\n",
       "        vertical-align: middle;\n",
       "    }\n",
       "\n",
       "    .dataframe tbody tr th {\n",
       "        vertical-align: top;\n",
       "    }\n",
       "\n",
       "    .dataframe thead th {\n",
       "        text-align: right;\n",
       "    }\n",
       "</style>\n",
       "<table border=\"1\" class=\"dataframe\">\n",
       "  <thead>\n",
       "    <tr style=\"text-align: right;\">\n",
       "      <th></th>\n",
       "      <th>Title</th>\n",
       "      <th>Author</th>\n",
       "      <th>Release_Date</th>\n",
       "      <th>Updated_Date</th>\n",
       "      <th>Language</th>\n",
       "      <th>Credits</th>\n",
       "      <th>Text</th>\n",
       "    </tr>\n",
       "  </thead>\n",
       "  <tbody>\n",
       "    <tr>\n",
       "      <th>0</th>\n",
       "      <td>Pride and Prejudice</td>\n",
       "      <td>Jane Austen</td>\n",
       "      <td>June 1, 1998</td>\n",
       "      <td>June 17, 2024</td>\n",
       "      <td>English</td>\n",
       "      <td>Chuck Greif and the Online Distributed Proofre...</td>\n",
       "      <td>PREFACE.\\nList of Illustrations.\\nChapter: I.,...</td>\n",
       "    </tr>\n",
       "    <tr>\n",
       "      <th>1</th>\n",
       "      <td>A Vindication of the Rights of Woman</td>\n",
       "      <td>Mary Wollstonecraft</td>\n",
       "      <td>September 1, 2002</td>\n",
       "      <td>January 8, 2021</td>\n",
       "      <td>English</td>\n",
       "      <td>This etext was produced by Amy E Zelmer, Col C...</td>\n",
       "      <td>This etext was produced by\\nAmy E Zelmer  &lt;a.z...</td>\n",
       "    </tr>\n",
       "  </tbody>\n",
       "</table>\n",
       "</div>"
      ],
      "text/plain": [
       "                                  Title               Author  \\\n",
       "0                   Pride and Prejudice          Jane Austen   \n",
       "1  A Vindication of the Rights of Woman  Mary Wollstonecraft   \n",
       "\n",
       "        Release_Date     Updated_Date Language  \\\n",
       "0       June 1, 1998    June 17, 2024  English   \n",
       "1  September 1, 2002  January 8, 2021  English   \n",
       "\n",
       "                                             Credits  \\\n",
       "0  Chuck Greif and the Online Distributed Proofre...   \n",
       "1  This etext was produced by Amy E Zelmer, Col C...   \n",
       "\n",
       "                                                Text  \n",
       "0  PREFACE.\\nList of Illustrations.\\nChapter: I.,...  \n",
       "1  This etext was produced by\\nAmy E Zelmer  <a.z...  "
      ]
     },
     "execution_count": 5,
     "metadata": {},
     "output_type": "execute_result"
    }
   ],
   "source": [
    "# Convert A Vindication of the Rights of Woman text\n",
    "convert_to_df('vindication_of_rights_of_woman.txt')"
   ]
  },
  {
   "cell_type": "markdown",
   "id": "7b907b5a",
   "metadata": {},
   "source": [
    "This section cleans and tokenizes the Text column with the following steps:\n",
    "1. Cast to lowercase\n",
    "2. Remove punctuation\n",
    "3. Tokenize\n",
    "4. Remove stopwords"
   ]
  },
  {
   "cell_type": "code",
   "execution_count": 6,
   "id": "35c09cdd",
   "metadata": {},
   "outputs": [],
   "source": [
    "# Punctuation\n",
    "punctuation = set(punctuation) \n",
    "\n",
    "# Removes punctuation\n",
    "def remove_punctuation(text, punct_set=punctuation): \n",
    "    \n",
    "    return(\"\".join([ch for ch in text if ch not in punct_set]))\n",
    "\n",
    "# Stopwords\n",
    "sw = stopwords.words(\"english\")\n",
    "\n",
    "# Removes stopwords\n",
    "def remove_stop(tokens):\n",
    "    \n",
    "    tokens = [word for word in tokens if word not in sw]\n",
    "    \n",
    "    return(tokens)\n",
    " \n",
    "\n",
    "# Tokenize the text\n",
    "def tokenize(text):     \n",
    "    \n",
    "    return text.split()\n",
    "\n",
    "# Applies the pipeline\n",
    "def pipeline(text): \n",
    "    \n",
    "    text = str.lower(text)\n",
    "    text = remove_punctuation(text)\n",
    "    tokens = tokenize(text)\n",
    "    tokens = remove_stop(tokens)\n",
    "    \n",
    "    return(' '.join(tokens))"
   ]
  },
  {
   "cell_type": "code",
   "execution_count": 7,
   "id": "7f2b85de",
   "metadata": {},
   "outputs": [],
   "source": [
    "# Converts Text column to string\n",
    "books['Text'] = books['Text'].astype(str)\n",
    "\n",
    "# Cleans Text\n",
    "books['Cleaned_Text'] = books['Text'].apply(pipeline)\n",
    "\n",
    "# Tokenizes Text\n",
    "books['Tokens'] = books['Cleaned_Text'].apply(tokenize)"
   ]
  },
  {
   "cell_type": "code",
   "execution_count": 8,
   "id": "0e97367f",
   "metadata": {},
   "outputs": [
    {
     "data": {
      "text/html": [
       "<div>\n",
       "<style scoped>\n",
       "    .dataframe tbody tr th:only-of-type {\n",
       "        vertical-align: middle;\n",
       "    }\n",
       "\n",
       "    .dataframe tbody tr th {\n",
       "        vertical-align: top;\n",
       "    }\n",
       "\n",
       "    .dataframe thead th {\n",
       "        text-align: right;\n",
       "    }\n",
       "</style>\n",
       "<table border=\"1\" class=\"dataframe\">\n",
       "  <thead>\n",
       "    <tr style=\"text-align: right;\">\n",
       "      <th></th>\n",
       "      <th>Title</th>\n",
       "      <th>Author</th>\n",
       "      <th>Release_Date</th>\n",
       "      <th>Updated_Date</th>\n",
       "      <th>Language</th>\n",
       "      <th>Credits</th>\n",
       "      <th>Text</th>\n",
       "      <th>Cleaned_Text</th>\n",
       "      <th>Tokens</th>\n",
       "    </tr>\n",
       "  </thead>\n",
       "  <tbody>\n",
       "    <tr>\n",
       "      <th>0</th>\n",
       "      <td>Pride and Prejudice</td>\n",
       "      <td>Jane Austen</td>\n",
       "      <td>June 1, 1998</td>\n",
       "      <td>June 17, 2024</td>\n",
       "      <td>English</td>\n",
       "      <td>Chuck Greif and the Online Distributed Proofre...</td>\n",
       "      <td>PREFACE.\\nList of Illustrations.\\nChapter: I.,...</td>\n",
       "      <td>preface list illustrations chapter ii iii iv v...</td>\n",
       "      <td>[preface, list, illustrations, chapter, ii, ii...</td>\n",
       "    </tr>\n",
       "    <tr>\n",
       "      <th>1</th>\n",
       "      <td>A Vindication of the Rights of Woman</td>\n",
       "      <td>Mary Wollstonecraft</td>\n",
       "      <td>September 1, 2002</td>\n",
       "      <td>January 8, 2021</td>\n",
       "      <td>English</td>\n",
       "      <td>This etext was produced by Amy E Zelmer, Col C...</td>\n",
       "      <td>This etext was produced by\\nAmy E Zelmer  &lt;a.z...</td>\n",
       "      <td>etext produced amy e zelmer azelmercqueduau co...</td>\n",
       "      <td>[etext, produced, amy, e, zelmer, azelmercqued...</td>\n",
       "    </tr>\n",
       "  </tbody>\n",
       "</table>\n",
       "</div>"
      ],
      "text/plain": [
       "                                  Title               Author  \\\n",
       "0                   Pride and Prejudice          Jane Austen   \n",
       "1  A Vindication of the Rights of Woman  Mary Wollstonecraft   \n",
       "\n",
       "        Release_Date     Updated_Date Language  \\\n",
       "0       June 1, 1998    June 17, 2024  English   \n",
       "1  September 1, 2002  January 8, 2021  English   \n",
       "\n",
       "                                             Credits  \\\n",
       "0  Chuck Greif and the Online Distributed Proofre...   \n",
       "1  This etext was produced by Amy E Zelmer, Col C...   \n",
       "\n",
       "                                                Text  \\\n",
       "0  PREFACE.\\nList of Illustrations.\\nChapter: I.,...   \n",
       "1  This etext was produced by\\nAmy E Zelmer  <a.z...   \n",
       "\n",
       "                                        Cleaned_Text  \\\n",
       "0  preface list illustrations chapter ii iii iv v...   \n",
       "1  etext produced amy e zelmer azelmercqueduau co...   \n",
       "\n",
       "                                              Tokens  \n",
       "0  [preface, list, illustrations, chapter, ii, ii...  \n",
       "1  [etext, produced, amy, e, zelmer, azelmercqued...  "
      ]
     },
     "execution_count": 8,
     "metadata": {},
     "output_type": "execute_result"
    }
   ],
   "source": [
    "books"
   ]
  },
  {
   "cell_type": "markdown",
   "id": "42334669",
   "metadata": {},
   "source": [
    "### Exploratory Data Analysis"
   ]
  },
  {
   "cell_type": "markdown",
   "id": "c6703c92",
   "metadata": {},
   "source": [
    "##### Descriptive Statistics"
   ]
  },
  {
   "cell_type": "code",
   "execution_count": 15,
   "id": "cf928c9a",
   "metadata": {},
   "outputs": [],
   "source": [
    "# Function to pull descriptive statistics from clean, tokenized text\n",
    "def descriptive_stats(tokens, title, num_tokens=5, verbose=True):\n",
    "    if verbose:\n",
    "        print(f\"Descriptive statistics for '{title}':\")\n",
    "        print(f\"There are {len(tokens)} tokens in the text.\")\n",
    "        print(f\"There are {len(set(tokens))} unique tokens in the text.\")\n",
    "        print(f\"There are {len(''.join(tokens))} characters in the text.\")\n",
    "        print(f\"The lexical diversity is {len(set(tokens))/len(tokens):.3f} in the text.\")\n",
    "\n",
    "        counts = Counter(tokens)\n",
    "\n",
    "        if num_tokens > 0 : \n",
    "            print(counts.most_common(num_tokens))\n",
    "        \n",
    "    return([len(tokens),\n",
    "            len(set(tokens)),\n",
    "            len(\"\".join(tokens)),\n",
    "            len(set(tokens))/len(tokens)])"
   ]
  },
  {
   "cell_type": "code",
   "execution_count": 18,
   "id": "75b96f3c",
   "metadata": {},
   "outputs": [
    {
     "name": "stdout",
     "output_type": "stream",
     "text": [
      "Descriptive statistics for 'Pride and Prejudice':\n",
      "There are 59221 tokens in the text.\n",
      "There are 8661 unique tokens in the text.\n",
      "There are 371744 characters in the text.\n",
      "The lexical diversity is 0.146 in the text.\n",
      "[('mr', 779), ('elizabeth', 580), ('could', 527), ('would', 480), ('said', 379), ('darcy', 355), ('mrs', 345), ('much', 327), ('must', 311), ('miss', 300)]\n"
     ]
    },
    {
     "data": {
      "text/plain": [
       "[59221, 8661, 371744, 0.1462487968794853]"
      ]
     },
     "execution_count": 18,
     "metadata": {},
     "output_type": "execute_result"
    }
   ],
   "source": [
    "# Call the function on tokenized text for \"Pride and Prejudice\"\n",
    "title = books.loc[0, 'Title']\n",
    "descriptive_stats(books.loc[0, 'Tokens'], title, num_tokens=10)"
   ]
  },
  {
   "cell_type": "code",
   "execution_count": 19,
   "id": "b2646312",
   "metadata": {},
   "outputs": [
    {
     "name": "stdout",
     "output_type": "stream",
     "text": [
      "Descriptive statistics for 'A Vindication of the Rights of Woman':\n",
      "There are 42138 tokens in the text.\n",
      "There are 7843 unique tokens in the text.\n",
      "There are 277511 characters in the text.\n",
      "The lexical diversity is 0.186 in the text.\n",
      "[('women', 439), ('man', 304), ('men', 299), ('reason', 261), ('would', 233), ('mind', 229), ('may', 226), ('must', 219), ('virtue', 193), ('woman', 183)]\n"
     ]
    },
    {
     "data": {
      "text/plain": [
       "[42138, 7843, 277511, 0.18612653661777967]"
      ]
     },
     "execution_count": 19,
     "metadata": {},
     "output_type": "execute_result"
    }
   ],
   "source": [
    "# Call the function on tokenized text for \"A Vindication of the Rights of Woman\"\n",
    "title2 = books.loc[1, 'Title']\n",
    "descriptive_stats(books.loc[1, 'Tokens'], title2, num_tokens=10)"
   ]
  }
 ],
 "metadata": {
  "kernelspec": {
   "display_name": "Python 3 (ipykernel)",
   "language": "python",
   "name": "python3"
  },
  "language_info": {
   "codemirror_mode": {
    "name": "ipython",
    "version": 3
   },
   "file_extension": ".py",
   "mimetype": "text/x-python",
   "name": "python",
   "nbconvert_exporter": "python",
   "pygments_lexer": "ipython3",
   "version": "3.11.4"
  }
 },
 "nbformat": 4,
 "nbformat_minor": 5
}
