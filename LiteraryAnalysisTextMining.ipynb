{
 "cells": [
  {
   "cell_type": "markdown",
   "id": "0e283e81",
   "metadata": {},
   "source": [
    "# Literary Analysis: Comparing Nonfiction and Fiction through Topic Modeling and Sentiment Analysis "
   ]
  },
  {
   "cell_type": "markdown",
   "id": "3e25c770",
   "metadata": {},
   "source": [
    "### ADS 509 Final Project\n",
    "##### Team 3: Claire Bentzen, Tara Dehdari, Logan Van Dine"
   ]
  },
  {
   "cell_type": "markdown",
   "id": "4272e44e",
   "metadata": {},
   "source": [
    "##### Introduction\n",
    "\n",
    "In this project, we will conduct a comparative analysis of two significant literary works: \"Pride and Prejudice\" by Jane Austen (fiction) and \"A Vindication of the Rights of Woman\" by Mary Wollstonecraft (nonfiction). Both texts engage deeply with themes of gender, society, and individual rights, making them ideal for exploring the differences in language, themes, and sentiment between fiction and nonfiction.\n",
    "\n",
    "Using text mining techniques, we will analyze how each genre approaches these themes, examining the stylistic and rhetorical differences that characterize fiction versus nonfiction. Our analysis will involve data cleaning, tokenization, and the application of descriptive statistics, sentiment analysis, and topic modeling. By comparing these works, we aim to uncover the unique ways in which each genre communicates similar ideas, providing insights into the broader distinctions between fiction and nonfiction writing.\n"
   ]
  },
  {
   "cell_type": "markdown",
   "id": "466f8631",
   "metadata": {},
   "source": [
    "### Imports"
   ]
  },
  {
   "cell_type": "code",
   "execution_count": 17,
   "id": "e783ff14",
   "metadata": {},
   "outputs": [],
   "source": [
    "import requests\n",
    "from bs4 import BeautifulSoup  \n",
    "import os"
   ]
  },
  {
   "cell_type": "markdown",
   "id": "e266c945",
   "metadata": {},
   "source": [
    "### Scraping"
   ]
  },
  {
   "cell_type": "markdown",
   "id": "5baa4d2a",
   "metadata": {},
   "source": [
    "This portion scrapes and saves the full text of Pride and Prejudice and A Vindication of the Rights of Woman from Project Gutenberg. It ensures the save directory exists, extracts text from the HTML, saves it to .txt files, and verifies that the files were created successfully, showing a preview of the content."
   ]
  },
  {
   "cell_type": "code",
   "execution_count": 19,
   "id": "2eb50984",
   "metadata": {},
   "outputs": [
    {
     "name": "stdout",
     "output_type": "stream",
     "text": [
      "Text from 'pride_and_prejudice.txt' scraped and saved.\n",
      "File './data\\pride_and_prejudice.txt' has been created successfully.\n",
      "File content preview:\n",
      "\n",
      "Title: Pride and Prejudice\n",
      "Author: Jane Austen\n",
      "Release date: June 1, 1998 [eBook #1342]\n",
      "\n",
      "                Most recently updated: June 17, 2024\n",
      "Language: English\n",
      "Credits: Chuck Greif and the Online Distributed Proofreading Team at http://www.pgdp.net (This file was produced from images available at The Internet Archive)\n",
      "\n",
      "PREFACE.\n",
      "List of Illustrations.\n",
      "Chapter: I., \n",
      "II., \n",
      "III., \n",
      "IV., \n",
      "V., \n",
      "VI., \n",
      "VII., \n",
      "VIII., \n",
      "IX., \n",
      "X., \n",
      "XI., \n",
      "XII., \n",
      "XIII., \n",
      "XIV., \n",
      "XV., \n",
      "XVI., \n",
      "XVII., \n",
      "XVIII., \n",
      "XIX., \n",
      "XX., \n",
      "XXI., \n",
      "Text from 'vindication_of_rights_of_woman.txt' scraped and saved.\n",
      "File './data\\vindication_of_rights_of_woman.txt' has been created successfully.\n",
      "File content preview:\n",
      "\n",
      "Title: A Vindication of the Rights of Woman\n",
      "Author: Mary Wollstonecraft\n",
      "Release date: September 1, 2002 [eBook #3420]\n",
      "\n",
      "                Most recently updated: January 8, 2021\n",
      "Language: English\n",
      "Credits: This etext was produced by Amy E Zelmer, Col Choat, Sue Asscher\n",
      "This etext was produced by\n",
      "Amy E Zelmer  <a.zelmer@cqu.edu.au>\n",
      "\n",
      "\n",
      "\n",
      "Col Choat  <CChoat@sanderson.net.au>\n",
      "\n",
      "\n",
      "\n",
      "Sue Asscher  <asschers@dingoblue.net.au>\n",
      "\n",
      "M. Wollstonecraft was born in 1759.  Her father was so great a\n",
      "\n",
      "wanderer, that the plac\n"
     ]
    }
   ],
   "source": [
    "# Define the URLs for the books\n",
    "url_pride_prej = 'https://www.gutenberg.org/cache/epub/1342/pg1342-images.html'\n",
    "url_vin_of_women = 'https://www.gutenberg.org/cache/epub/3420/pg3420-images.html'\n",
    "\n",
    "# Define the directory to save the files\n",
    "data_dir = './data'\n",
    "\n",
    "# Ensure the directory exists\n",
    "os.makedirs(data_dir, exist_ok=True)\n",
    "\n",
    "# Function to scrape and save books\n",
    "def scrape_and_save_book(url, file_name):\n",
    "    # Send a GET request to the URL\n",
    "    response = requests.get(url)\n",
    "    response.raise_for_status()  # Check that the request was successful\n",
    "    \n",
    "    # Parse the HTML content with BeautifulSoup\n",
    "    soup = BeautifulSoup(response.content, 'html.parser')\n",
    "    \n",
    "    # Extract all text from <p> tags\n",
    "    paragraphs = soup.find_all('p')\n",
    "    book_text = '\\n'.join([para.get_text() for para in paragraphs])\n",
    "    \n",
    "    # Save the extracted text to a file\n",
    "    file_path = os.path.join(data_dir, file_name)\n",
    "    with open(file_path, 'w', encoding='utf-8') as file:\n",
    "        file.write(book_text)\n",
    "    \n",
    "    print(f\"Text from '{file_name}' scraped and saved.\")\n",
    "    \n",
    "    # Check if the file is saved and contains content\n",
    "    if os.path.exists(file_path):\n",
    "        print(f\"File '{file_path}' has been created successfully.\")\n",
    "        # Check the first few lines of the file\n",
    "        with open(file_path, 'r', encoding='utf-8') as file:\n",
    "            preview = file.read(500)  # Read the first 500 characters\n",
    "            print(\"File content preview:\\n\")\n",
    "            print(preview)\n",
    "    else:\n",
    "        print(f\"Failed to create the file '{file_path}'.\")\n",
    "\n",
    "# Scrape and save Pride and Prejudice\n",
    "scrape_and_save_book(url_pride_prej, 'pride_and_prejudice.txt')\n",
    "\n",
    "# Scrape and save A Vindication of the Rights of Woman\n",
    "scrape_and_save_book(url_vin_of_women, 'vindication_of_rights_of_woman.txt')"
   ]
  },
  {
   "cell_type": "markdown",
   "id": "035ccb09",
   "metadata": {},
   "source": [
    "### Data Cleaning"
   ]
  },
  {
   "cell_type": "code",
   "execution_count": null,
   "id": "d831fa2d",
   "metadata": {},
   "outputs": [],
   "source": []
  },
  {
   "cell_type": "markdown",
   "id": "bbd0a8f3",
   "metadata": {},
   "source": [
    "### Data Tokenization"
   ]
  },
  {
   "cell_type": "code",
   "execution_count": null,
   "id": "bc25a978",
   "metadata": {},
   "outputs": [],
   "source": []
  }
 ],
 "metadata": {
  "kernelspec": {
   "display_name": "Python 3 (ipykernel)",
   "language": "python",
   "name": "python3"
  },
  "language_info": {
   "codemirror_mode": {
    "name": "ipython",
    "version": 3
   },
   "file_extension": ".py",
   "mimetype": "text/x-python",
   "name": "python",
   "nbconvert_exporter": "python",
   "pygments_lexer": "ipython3",
   "version": "3.10.9"
  }
 },
 "nbformat": 4,
 "nbformat_minor": 5
}
